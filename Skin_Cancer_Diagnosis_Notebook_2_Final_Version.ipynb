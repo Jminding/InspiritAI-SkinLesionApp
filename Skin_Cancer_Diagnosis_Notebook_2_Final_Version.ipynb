{
  "cells": [
    {
      "cell_type": "code",
      "source": [
        "print(\"Installing packages...\")\n",
        "!pip install hypopt tensorflowjs > /dev/null\n",
        "print(\"Downloading files...\")\n",
        "!wget https://www.dropbox.com/s/fedqcdt4o0m2oxp/X.npy &> /dev/null\n",
        "!wget https://www.dropbox.com/s/h7xh92w1w7px30a/X_g.npy &> /dev/null\n",
        "!wget https://www.dropbox.com/s/grn9brfvzx74c8a/y.npy &> /dev/null\n",
        "print(\"Importing stuff...\")\n",
        "import os\n",
        "os.makedirs(\"static/js\", exist_ok=True)\n",
        "!wget -O static/js/skin_cancer_diagnosis_script.js 'https://storage.googleapis.com/inspirit-ai-data-bucket-1/Data/AI%20Scholars/Sessions%206%20-%2010%20(Projects)/Project%20-%20(Healthcare%20B)%20Skin%20Cancer%20Diagnosis/skin_cancer_diagnosis_script.js' &> /dev/null\n",
        "output = 'static/js/skin_cancer_diagnosis_script.js'\n",
        "\n",
        "from google.colab.output import eval_js\n",
        "\n",
        "import time\n",
        "start_time = time.time()\n",
        "\n",
        "import tensorflow as tf\n",
        "from tensorflow.keras.preprocessing.image import ImageDataGenerator\n",
        "from tqdm.notebook import tqdm\n",
        "from tensorflow.keras import optimizers\n",
        "\n",
        "import keras\n",
        "from keras import backend as K\n",
        "from tensorflow.keras.layers import *\n",
        "from keras.models import Sequential\n",
        "from keras.layers import Dense, Conv2D\n",
        "from keras.layers import Activation, MaxPooling2D, Dropout, Flatten, Reshape\n",
        "from keras.wrappers.scikit_learn import KerasClassifier\n",
        "from keras.optimizers import rmsprop_v2\n",
        "\n",
        "import matplotlib.pyplot as plt\n",
        "import matplotlib\n",
        "import seaborn as sns\n",
        "import os\n",
        "import random\n",
        "from PIL import Image\n",
        "import gdown\n",
        "\n",
        "import argparse\n",
        "import numpy as np\n",
        "from keras.layers import Conv2D, Input, BatchNormalization, LeakyReLU, ZeroPadding2D, UpSampling2D\n",
        "from keras.layers.merge import add, concatenate\n",
        "from keras.models import Model\n",
        "import struct\n",
        "from google.colab.patches import cv2_imshow\n",
        "from copy import deepcopy\n",
        "import pandas as pd\n",
        "\n",
        "from sklearn.model_selection import train_test_split\n",
        "from sklearn.linear_model import LogisticRegression\n",
        "from sklearn.neighbors import KNeighborsClassifier\n",
        "from sklearn import tree\n",
        "from sklearn.metrics import confusion_matrix, classification_report\n",
        "from sklearn.metrics import precision_recall_curve\n",
        "from sklearn.metrics import roc_auc_score\n",
        "from sklearn.base import BaseEstimator\n",
        "\n",
        "from sklearn.neural_network import MLPClassifier\n",
        "from sklearn.neighbors import KNeighborsClassifier\n",
        "from sklearn.svm import SVC\n",
        "from sklearn.gaussian_process import GaussianProcessClassifier\n",
        "from sklearn.gaussian_process.kernels import RBF\n",
        "from sklearn.tree import DecisionTreeClassifier\n",
        "from sklearn.ensemble import RandomForestClassifier, AdaBoostClassifier\n",
        "from sklearn.naive_bayes import GaussianNB\n",
        "from sklearn.discriminant_analysis import QuadraticDiscriminantAnalysis\n",
        "\n",
        "from sklearn.metrics import make_scorer\n",
        "from sklearn.metrics import accuracy_score\n",
        "from keras.applications.mobilenet import MobileNet\n",
        "\n",
        "\n",
        "\n",
        "\n",
        "from hypopt import GridSearch\n",
        "\n",
        "from sklearn.decomposition import PCA\n",
        "from sklearn.manifold import TSNE\n",
        "\n",
        "from sklearn.cluster import KMeans\n",
        "from sklearn.cluster import AgglomerativeClustering\n",
        "\n",
        "import cv2\n",
        "\n",
        "\n",
        "import tensorflowjs as tfjs\n",
        "\n",
        "from google.colab import files\n",
        "\n",
        "import requests, io, zipfile\n",
        "import os\n",
        "\n",
        "\n",
        "\n",
        "import os.path\n",
        "from os import path\n",
        "\n",
        "\n",
        "\n",
        "\n",
        "print(\"Done!\")"
      ],
      "outputs": [
        {
          "output_type": "stream",
          "name": "stdout",
          "text": [
            "Installing packages...\n",
            "Downloading files...\n",
            "Importing stuff...\n",
            "Done!\n"
          ]
        }
      ],
      "execution_count": 1,
      "metadata": {
        "colab": {
          "base_uri": "https://localhost:8080/"
        },
        "id": "ih8pc-WDIxbx",
        "outputId": "46dbfdf8-7039-4fa2-a2b4-455bc52fc50f"
      }
    },
    {
      "cell_type": "code",
      "source": [
        "IMG_WIDTH = 100\n",
        "IMG_HEIGHT = 75"
      ],
      "outputs": [],
      "execution_count": 2,
      "metadata": {
        "id": "ITfh4GjlttRH"
      }
    },
    {
      "cell_type": "code",
      "source": [
        "X = np.load(\"X.npy\")\n",
        "X_g = np.load(\"X_g.npy\")\n",
        "y = np.load(\"y.npy\")"
      ],
      "outputs": [],
      "execution_count": 3,
      "metadata": {
        "id": "Kpq4DXFN6cRf"
      }
    },
    {
      "cell_type": "code",
      "source": [
        "X_train, X_test, y_train, y_test = train_test_split(X, y, test_size=0.4, random_state=101)\n",
        "X_g_train, X_g_test, y_train, y_test = train_test_split(X_g, y, test_size=0.4, random_state=101)\n",
        "\n",
        "X_augmented = []\n",
        "X_g_augmented = []\n",
        "\n",
        "y_augmented = []\n",
        "\n",
        "for i in tqdm(range(len(X_train))):\n",
        "  transform = random.randint(0,1)\n",
        "  if (transform == 0):\n",
        "    # Flip the image across the y-axis\n",
        "    X_augmented.append(cv2.flip(X_train[i],1))\n",
        "    X_g_augmented.append(cv2.flip(X_g_train[i],1))\n",
        "    y_augmented.append(y_train[i])\n",
        "  else:\n",
        "    # Zoom 33% into the image\n",
        "    zoom = 0.33\n",
        "\n",
        "    centerX,centerY=int(IMG_HEIGHT/2),int(IMG_WIDTH/2)\n",
        "    radiusX,radiusY= int((1-zoom)*IMG_HEIGHT*2),int((1-zoom)*IMG_WIDTH*2)\n",
        "\n",
        "    minX,maxX=centerX-radiusX,centerX+radiusX\n",
        "    minY,maxY=centerY-radiusY,centerY+radiusY\n",
        "\n",
        "    cropped = (X_train[i])[minX:maxX, minY:maxY]\n",
        "    new_img = cv2.resize(cropped, (IMG_WIDTH, IMG_HEIGHT))\n",
        "    X_augmented.append(new_img)\n",
        "\n",
        "    cropped = (X_g_train[i])[minX:maxX, minY:maxY]\n",
        "    new_img = cv2.resize(cropped, (IMG_WIDTH, IMG_HEIGHT))\n",
        "    X_g_augmented.append(new_img)\n",
        "\n",
        "    y_augmented.append(y_train[i])\n",
        "\n",
        "X_augmented = np.array(X_augmented)\n",
        "X_g_augmented = np.array(X_g_augmented)\n",
        "\n",
        "y_augmented = np.array(y_augmented)\n",
        "\n",
        "X_train = np.vstack((X_train,X_augmented))\n",
        "X_g_train = np.vstack((X_g_train,X_g_augmented))\n",
        "\n",
        "y_train = np.append(y_train,y_augmented)"
      ],
      "outputs": [
        {
          "output_type": "display_data",
          "data": {
            "application/vnd.jupyter.widget-view+json": {
              "model_id": "bbc7a4c854e34299866935014a726839",
              "version_minor": 0,
              "version_major": 2
            },
            "text/plain": "  0%|          | 0/580 [00:00<?, ?it/s]"
          },
          "metadata": {}
        }
      ],
      "execution_count": 4,
      "metadata": {
        "colab": {
          "base_uri": "https://localhost:8080/",
          "height": 49,
          "referenced_widgets": [
            "bbc7a4c854e34299866935014a726839",
            "90b4915be94547a5b82a90772460ab63",
            "27c8f55b7515474196ebc2680546c23d",
            "a06a80551da143739cfeba1d885cfa88",
            "023b231bb5b943babfd441cbf63a0ebf",
            "0657b66d54f44650bd25a53c77b17cff",
            "ddfa0abbe6a544d3a78ce7102cd84c08",
            "42c3bec4588b429da2b30b043dcf72de",
            "94dfed7d43894357b1c48e0a8c2d249f",
            "d95dd7f1574a44c5869f52c02cd9bcf1",
            "97f84bf6b930443e921c17c3100c9bc5"
          ]
        },
        "id": "UC4VupwgyqpN",
        "outputId": "1941ce9d-a6ee-4877-bb03-69830e82999d"
      }
    },
    {
      "cell_type": "code",
      "source": [
        "def CNNClassifier(epochs=40, batch_size=10, layers=5, dropout=0.5, activation='relu'):\n",
        "  def set_params():\n",
        "    i = 1  \n",
        "  def create_model():\n",
        "    model = Sequential()\n",
        "    \n",
        "    for i in range(layers):\n",
        "      model.add(Conv2D(64, (3, 3), padding='same'))\n",
        "      model.add(Activation(activation))\n",
        "    \n",
        "    model.add(Conv2D(64, (3, 3)))\n",
        "    model.add(Activation(activation))\n",
        "    model.add(MaxPooling2D(pool_size=(2, 2)))\n",
        "    model.add(Dropout(dropout / 2.0))\n",
        "\n",
        "    model.add(Conv2D(128, (3, 3), padding='same'))\n",
        "    model.add(Activation(activation))\n",
        "    model.add(Conv2D(128, (3, 3)))\n",
        "    model.add(Activation(activation))\n",
        "    model.add(MaxPooling2D(pool_size=(2, 2)))\n",
        "    model.add(Dropout(dropout / 2.0))\n",
        "\n",
        "    model.add(Flatten())\n",
        "    model.add(Dense(512))\n",
        "    model.add(Activation(activation))\n",
        "    model.add(Dropout(dropout))\n",
        "    model.add(Dense(7))\n",
        "    model.add(Activation('softmax'))\n",
        "\n",
        "    # initiate RMSprop optimizer\n",
        "    #opt = keras.optimizers.RMSprop(lr=0.0001, decay=1e-6)\n",
        "\n",
        "    # Let's train the model using RMSprop\n",
        "    model.compile(loss='categorical_crossentropy',\n",
        "                  optimizer=tf.keras.optimizers.RMSprop(lr=0.0001, decay=1e-6),\n",
        "                  metrics=[tf.keras.metrics.AUC()])\n",
        "    return model\n",
        "  return KerasClassifier(build_fn=create_model, epochs=epochs, batch_size=batch_size, verbose=1)"
      ],
      "outputs": [],
      "execution_count": 6,
      "metadata": {
        "id": "jfVye7oWuNMM"
      }
    },
    {
      "cell_type": "code",
      "source": [
        "y_train_onehot = np.zeros((y_train.size, y_train.max().astype(int)+1))\n",
        "y_train_onehot[np.arange(y_train.size),y_train.astype(int)] = 1\n",
        "\n",
        "y_test_onehot = np.zeros((y_test.size, y_test.max().astype(int)+1))\n",
        "y_test_onehot[np.arange(y_test.size),y_test.astype(int)] = 1"
      ],
      "outputs": [],
      "execution_count": 7,
      "metadata": {
        "id": "WPCxQjeS1Qjk"
      }
    },
    {
      "cell_type": "code",
      "source": [
        "cnn = CNNClassifier()\n",
        "\n",
        "cnn.fit(X_train.astype(np.float32), y_train_onehot.astype(np.float32),\n",
        "        validation_data=(X_test.astype(np.float32),y_test_onehot.astype(np.float32))\n",
        "        ,verbose=1)"
      ],
      "outputs": [
        {
          "output_type": "stream",
          "name": "stderr",
          "text": [
            "/usr/local/lib/python3.7/dist-packages/keras/optimizer_v2/optimizer_v2.py:356: UserWarning: The `lr` argument is deprecated, use `learning_rate` instead.\n",
            "  \"The `lr` argument is deprecated, use `learning_rate` instead.\")\n"
          ]
        },
        {
          "output_type": "stream",
          "name": "stdout",
          "text": [
            "Epoch 1/40\n",
            "116/116 [==============================] - 45s 120ms/step - loss: 3.0184 - auc: 0.6128 - val_loss: 1.7830 - val_auc: 0.7194\n",
            "Epoch 2/40\n",
            "116/116 [==============================] - 13s 114ms/step - loss: 1.6473 - auc: 0.7488 - val_loss: 1.5301 - val_auc: 0.7929\n",
            "Epoch 3/40\n",
            "116/116 [==============================] - 13s 114ms/step - loss: 1.4073 - auc: 0.8297 - val_loss: 1.4544 - val_auc: 0.8184\n",
            "Epoch 4/40\n",
            "116/116 [==============================] - 13s 114ms/step - loss: 1.3043 - auc: 0.8623 - val_loss: 1.5442 - val_auc: 0.8160\n",
            "Epoch 5/40\n",
            "116/116 [==============================] - 13s 114ms/step - loss: 1.2312 - auc: 0.8758 - val_loss: 1.3173 - val_auc: 0.8623\n",
            "Epoch 6/40\n",
            "116/116 [==============================] - 13s 115ms/step - loss: 1.0501 - auc: 0.9105 - val_loss: 1.3122 - val_auc: 0.8633\n",
            "Epoch 7/40\n",
            "116/116 [==============================] - 13s 114ms/step - loss: 0.9761 - auc: 0.9230 - val_loss: 1.2332 - val_auc: 0.8739\n",
            "Epoch 8/40\n",
            "116/116 [==============================] - 13s 115ms/step - loss: 0.8598 - auc: 0.9405 - val_loss: 1.2966 - val_auc: 0.8701\n",
            "Epoch 9/40\n",
            "116/116 [==============================] - 13s 114ms/step - loss: 0.8396 - auc: 0.9428 - val_loss: 1.2428 - val_auc: 0.8738\n",
            "Epoch 10/40\n",
            "116/116 [==============================] - 13s 115ms/step - loss: 0.7436 - auc: 0.9539 - val_loss: 1.5184 - val_auc: 0.8581\n",
            "Epoch 11/40\n",
            "116/116 [==============================] - 13s 114ms/step - loss: 0.6670 - auc: 0.9619 - val_loss: 1.3544 - val_auc: 0.8716\n",
            "Epoch 12/40\n",
            "116/116 [==============================] - 13s 114ms/step - loss: 0.5714 - auc: 0.9719 - val_loss: 1.5264 - val_auc: 0.8628\n",
            "Epoch 13/40\n",
            "116/116 [==============================] - 13s 113ms/step - loss: 0.5286 - auc: 0.9757 - val_loss: 1.3340 - val_auc: 0.8719\n",
            "Epoch 14/40\n",
            "116/116 [==============================] - 13s 114ms/step - loss: 0.4562 - auc: 0.9809 - val_loss: 1.7267 - val_auc: 0.8540\n",
            "Epoch 15/40\n",
            "116/116 [==============================] - 13s 114ms/step - loss: 0.4196 - auc: 0.9835 - val_loss: 1.5787 - val_auc: 0.8690\n",
            "Epoch 16/40\n",
            "116/116 [==============================] - 13s 114ms/step - loss: 0.3713 - auc: 0.9862 - val_loss: 1.7857 - val_auc: 0.8621\n",
            "Epoch 17/40\n",
            "116/116 [==============================] - 13s 113ms/step - loss: 0.2812 - auc: 0.9915 - val_loss: 2.0102 - val_auc: 0.8477\n",
            "Epoch 18/40\n",
            "116/116 [==============================] - 13s 114ms/step - loss: 0.3346 - auc: 0.9911 - val_loss: 2.1965 - val_auc: 0.8355\n",
            "Epoch 19/40\n",
            "116/116 [==============================] - 13s 114ms/step - loss: 0.2816 - auc: 0.9922 - val_loss: 3.1915 - val_auc: 0.8119\n",
            "Epoch 20/40\n",
            "116/116 [==============================] - 13s 114ms/step - loss: 0.2438 - auc: 0.9921 - val_loss: 3.2076 - val_auc: 0.8282\n",
            "Epoch 21/40\n",
            "116/116 [==============================] - 13s 113ms/step - loss: 0.2344 - auc: 0.9945 - val_loss: 2.7881 - val_auc: 0.8359\n",
            "Epoch 22/40\n",
            "116/116 [==============================] - 13s 114ms/step - loss: 0.2261 - auc: 0.9929 - val_loss: 2.7587 - val_auc: 0.8342\n",
            "Epoch 23/40\n",
            "116/116 [==============================] - 13s 113ms/step - loss: 0.1878 - auc: 0.9946 - val_loss: 2.9711 - val_auc: 0.8368\n",
            "Epoch 24/40\n",
            "116/116 [==============================] - 13s 114ms/step - loss: 0.1505 - auc: 0.9963 - val_loss: 4.3961 - val_auc: 0.8130\n",
            "Epoch 25/40\n",
            "116/116 [==============================] - 13s 113ms/step - loss: 0.1567 - auc: 0.9940 - val_loss: 3.4166 - val_auc: 0.8250\n",
            "Epoch 26/40\n",
            "116/116 [==============================] - 13s 114ms/step - loss: 0.1672 - auc: 0.9950 - val_loss: 3.4037 - val_auc: 0.8299\n",
            "Epoch 27/40\n",
            "116/116 [==============================] - 13s 114ms/step - loss: 0.2024 - auc: 0.9936 - val_loss: 3.5841 - val_auc: 0.8134\n",
            "Epoch 28/40\n",
            "116/116 [==============================] - 13s 114ms/step - loss: 0.1261 - auc: 0.9967 - val_loss: 4.2069 - val_auc: 0.8230\n",
            "Epoch 29/40\n",
            "116/116 [==============================] - 13s 114ms/step - loss: 0.1544 - auc: 0.9968 - val_loss: 6.0655 - val_auc: 0.8057\n",
            "Epoch 30/40\n",
            "116/116 [==============================] - 13s 114ms/step - loss: 0.1286 - auc: 0.9959 - val_loss: 3.8492 - val_auc: 0.8190\n",
            "Epoch 31/40\n",
            "116/116 [==============================] - 13s 113ms/step - loss: 0.1057 - auc: 0.9965 - val_loss: 5.6074 - val_auc: 0.7960\n",
            "Epoch 32/40\n",
            "116/116 [==============================] - 13s 114ms/step - loss: 0.1112 - auc: 0.9960 - val_loss: 5.6268 - val_auc: 0.7972\n",
            "Epoch 33/40\n",
            "116/116 [==============================] - 13s 113ms/step - loss: 0.0785 - auc: 0.9978 - val_loss: 5.7849 - val_auc: 0.8009\n",
            "Epoch 34/40\n",
            "116/116 [==============================] - 13s 114ms/step - loss: 0.1485 - auc: 0.9941 - val_loss: 4.1487 - val_auc: 0.8336\n",
            "Epoch 35/40\n",
            "116/116 [==============================] - 13s 113ms/step - loss: 0.2520 - auc: 0.9950 - val_loss: 5.9948 - val_auc: 0.8133\n",
            "Epoch 36/40\n",
            "116/116 [==============================] - 13s 114ms/step - loss: 0.0760 - auc: 0.9978 - val_loss: 6.5749 - val_auc: 0.8079\n",
            "Epoch 37/40\n",
            "116/116 [==============================] - 13s 113ms/step - loss: 0.1309 - auc: 0.9969 - val_loss: 11.2050 - val_auc: 0.7631\n",
            "Epoch 38/40\n",
            "116/116 [==============================] - 13s 114ms/step - loss: 0.1978 - auc: 0.9940 - val_loss: 6.8209 - val_auc: 0.7958\n",
            "Epoch 39/40\n",
            "116/116 [==============================] - 13s 113ms/step - loss: 0.0552 - auc: 0.9979 - val_loss: 7.9477 - val_auc: 0.7944\n",
            "Epoch 40/40\n",
            "116/116 [==============================] - 13s 114ms/step - loss: 0.1303 - auc: 0.9967 - val_loss: 6.2319 - val_auc: 0.8010\n"
          ]
        },
        {
          "output_type": "execute_result",
          "execution_count": 8,
          "data": {
            "text/plain": "<keras.callbacks.History at 0x7f98c0327d10>"
          },
          "metadata": {}
        }
      ],
      "execution_count": 8,
      "metadata": {
        "colab": {
          "base_uri": "https://localhost:8080/"
        },
        "id": "z_blzuQQyiJv",
        "outputId": "d092dc22-5ba1-4933-a39d-2aa74c606de2"
      }
    },
    {
      "cell_type": "code",
      "source": [
        "cnn.model.save(\"model.h5\")"
      ],
      "outputs": [],
      "execution_count": 9,
      "metadata": {
        "id": "WNiX3iRXTLoz"
      }
    },
    {
      "cell_type": "code",
      "source": [
        "def model_stats(name, y_test, y_pred, y_pred_proba):\n",
        "  cm = confusion_matrix(y_test, y_pred)\n",
        "\n",
        "  print(name)\n",
        "\n",
        "  accuracy = accuracy_score(y_test,y_pred)\n",
        "  print (\"The accuracy of the model is \" + str(round(accuracy,5)))\n",
        "\n",
        "  y_test_onehot = np.zeros((y_test.size, y_test.max().astype(int)+1))\n",
        "  y_test_onehot[np.arange(y_test.size),y_test.astype(int)] = 1\n",
        "\n",
        "  roc_score = roc_auc_score(y_test_onehot, y_pred_proba)\n",
        "\n",
        "  print (\"The ROC AUC Score of the model is \" + str(round(roc_score,5)))\n",
        "  \n",
        "  return cm"
      ],
      "outputs": [],
      "execution_count": 10,
      "metadata": {
        "id": "tdgFEDo82dYQ"
      }
    },
    {
      "cell_type": "code",
      "source": [
        "y_pred = cnn.predict(X_test)\n",
        "y_pred_proba = cnn.predict_proba(X_test)\n",
        "\n",
        "cnn_cm = model_stats(\"CNN\",y_test,y_pred,y_pred_proba)"
      ],
      "outputs": [
        {
          "output_type": "stream",
          "name": "stdout",
          "text": [
            "CNN\n",
            "The accuracy of the model is 0.55556\n",
            "The ROC AUC Score of the model is 0.8528\n"
          ]
        }
      ],
      "execution_count": 11,
      "metadata": {
        "colab": {
          "base_uri": "https://localhost:8080/"
        },
        "id": "1NMKhFdFt8QH",
        "outputId": "eb54a556-bb03-495d-8a81-a72036af8086"
      }
    },
    {
      "cell_type": "code",
      "source": [
        "def plot_cm(name, cm):\n",
        "  classes = ['akiec', 'bcc', 'bkl', 'df', 'mel', 'nv', 'vasc']\n",
        "\n",
        "  df_cm = pd.DataFrame(cm, index = [i for i in classes], columns = [i for i in classes])\n",
        "  df_cm = df_cm.round(5)\n",
        "\n",
        "  plt.figure(figsize = (12,8))\n",
        "  sns.heatmap(df_cm, annot=True, fmt='g')\n",
        "  plt.title(name + \" Model Confusion Matrix\")\n",
        "  plt.xlabel(\"Predicted Label\")\n",
        "  plt.ylabel(\"True Label\")\n",
        "  plt.show()"
      ],
      "outputs": [],
      "execution_count": 12,
      "metadata": {
        "id": "EHweJLDq2hJO"
      }
    },
    {
      "cell_type": "code",
      "source": [
        "plot_cm(\"CNN\", cnn_cm)"
      ],
      "outputs": [
        {
          "output_type": "display_data",
          "data": {
            "image/png": "[encoded data removed]",
            "text/plain": "<Figure size 864x576 with 2 Axes>"
          },
          "metadata": {
            "needs_background": "light"
          }
        }
      ],
      "execution_count": 14,
      "metadata": {
        "colab": {
          "base_uri": "https://localhost:8080/",
          "height": 513
        },
        "id": "1vCkT0jCvlEV",
        "outputId": "8f2f6c8a-926a-49dc-e830-b72ba5b12508"
      }
    }
  ],
  "metadata": {
    "accelerator": "GPU",
    "colab": {
      "name": "Skin Cancer Diagnosis Notebook 2 Final Version.ipynb",
      "provenance": [],
      "collapsed_sections": []
    },
    "kernelspec": {
      "display_name": "Python 3",
      "name": "python3"
    },
    "widgets": {
      "application/vnd.jupyter.widget-state+json": {
        "42c3bec4588b429da2b30b043dcf72de": {
          "model_module": "@jupyter-widgets/controls",
          "model_name": "ProgressStyleModel",
          "model_module_version": "1.5.0",
          "state": {
            "_view_module_version": "1.2.0",
            "_model_name": "ProgressStyleModel",
            "_model_module": "@jupyter-widgets/controls",
            "description_width": "",
            "_view_name": "StyleView",
            "_view_module": "@jupyter-widgets/base",
            "_view_count": null,
            "bar_color": null,
            "_model_module_version": "1.5.0"
          }
        },
        "97f84bf6b930443e921c17c3100c9bc5": {
          "model_module": "@jupyter-widgets/base",
          "model_name": "LayoutModel",
          "model_module_version": "1.2.0",
          "state": {
            "_view_module_version": "1.2.0",
            "_model_name": "LayoutModel",
            "grid_row": null,
            "_model_module": "@jupyter-widgets/base",
            "overflow": null,
            "max_height": null,
            "display": null,
            "grid_auto_flow": null,
            "grid_template_rows": null,
            "align_self": null,
            "grid_auto_columns": null,
            "width": null,
            "grid_area": null,
            "align_items": null,
            "_view_name": "LayoutView",
            "left": null,
            "height": null,
            "_view_module": "@jupyter-widgets/base",
            "object_position": null,
            "justify_content": null,
            "bottom": null,
            "max_width": null,
            "border": null,
            "margin": null,
            "order": null,
            "grid_column": null,
            "grid_auto_rows": null,
            "padding": null,
            "grid_template_columns": null,
            "justify_items": null,
            "object_fit": null,
            "visibility": null,
            "_view_count": null,
            "flex_flow": null,
            "min_height": null,
            "top": null,
            "min_width": null,
            "flex": null,
            "_model_module_version": "1.2.0",
            "grid_template_areas": null,
            "overflow_x": null,
            "right": null,
            "overflow_y": null,
            "grid_gap": null,
            "align_content": null
          }
        },
        "27c8f55b7515474196ebc2680546c23d": {
          "model_module": "@jupyter-widgets/controls",
          "model_name": "HTMLModel",
          "model_module_version": "1.5.0",
          "state": {
            "_view_module_version": "1.5.0",
            "description_tooltip": null,
            "_model_name": "HTMLModel",
            "_model_module": "@jupyter-widgets/controls",
            "_view_name": "HTMLView",
            "_view_module": "@jupyter-widgets/controls",
            "_dom_classes": [],
            "layout": "IPY_MODEL_ddfa0abbe6a544d3a78ce7102cd84c08",
            "value": "100%",
            "style": "IPY_MODEL_0657b66d54f44650bd25a53c77b17cff",
            "placeholder": "​",
            "_view_count": null,
            "_model_module_version": "1.5.0",
            "description": ""
          }
        },
        "d95dd7f1574a44c5869f52c02cd9bcf1": {
          "model_module": "@jupyter-widgets/controls",
          "model_name": "DescriptionStyleModel",
          "model_module_version": "1.5.0",
          "state": {
            "_view_name": "StyleView",
            "_model_name": "DescriptionStyleModel",
            "description_width": "",
            "_view_module": "@jupyter-widgets/base",
            "_model_module_version": "1.5.0",
            "_view_count": null,
            "_view_module_version": "1.2.0",
            "_model_module": "@jupyter-widgets/controls"
          }
        },
        "ddfa0abbe6a544d3a78ce7102cd84c08": {
          "model_module": "@jupyter-widgets/base",
          "model_name": "LayoutModel",
          "model_module_version": "1.2.0",
          "state": {
            "_view_module_version": "1.2.0",
            "_model_name": "LayoutModel",
            "grid_row": null,
            "_model_module": "@jupyter-widgets/base",
            "overflow": null,
            "max_height": null,
            "display": null,
            "grid_auto_flow": null,
            "grid_template_rows": null,
            "align_self": null,
            "grid_auto_columns": null,
            "width": null,
            "grid_area": null,
            "align_items": null,
            "_view_name": "LayoutView",
            "left": null,
            "height": null,
            "_view_module": "@jupyter-widgets/base",
            "object_position": null,
            "justify_content": null,
            "bottom": null,
            "max_width": null,
            "border": null,
            "margin": null,
            "order": null,
            "grid_column": null,
            "grid_auto_rows": null,
            "padding": null,
            "grid_template_columns": null,
            "justify_items": null,
            "object_fit": null,
            "visibility": null,
            "_view_count": null,
            "flex_flow": null,
            "min_height": null,
            "top": null,
            "min_width": null,
            "flex": null,
            "_model_module_version": "1.2.0",
            "grid_template_areas": null,
            "overflow_x": null,
            "right": null,
            "overflow_y": null,
            "grid_gap": null,
            "align_content": null
          }
        },
        "90b4915be94547a5b82a90772460ab63": {
          "model_module": "@jupyter-widgets/base",
          "model_name": "LayoutModel",
          "model_module_version": "1.2.0",
          "state": {
            "_view_module_version": "1.2.0",
            "_model_name": "LayoutModel",
            "grid_row": null,
            "_model_module": "@jupyter-widgets/base",
            "overflow": null,
            "max_height": null,
            "display": null,
            "grid_auto_flow": null,
            "grid_template_rows": null,
            "align_self": null,
            "grid_auto_columns": null,
            "width": null,
            "grid_area": null,
            "align_items": null,
            "_view_name": "LayoutView",
            "left": null,
            "height": null,
            "_view_module": "@jupyter-widgets/base",
            "object_position": null,
            "justify_content": null,
            "bottom": null,
            "max_width": null,
            "border": null,
            "margin": null,
            "order": null,
            "grid_column": null,
            "grid_auto_rows": null,
            "padding": null,
            "grid_template_columns": null,
            "justify_items": null,
            "object_fit": null,
            "visibility": null,
            "_view_count": null,
            "flex_flow": null,
            "min_height": null,
            "top": null,
            "min_width": null,
            "flex": null,
            "_model_module_version": "1.2.0",
            "grid_template_areas": null,
            "overflow_x": null,
            "right": null,
            "overflow_y": null,
            "grid_gap": null,
            "align_content": null
          }
        },
        "023b231bb5b943babfd441cbf63a0ebf": {
          "model_module": "@jupyter-widgets/controls",
          "model_name": "HTMLModel",
          "model_module_version": "1.5.0",
          "state": {
            "_view_module_version": "1.5.0",
            "description_tooltip": null,
            "_model_name": "HTMLModel",
            "_model_module": "@jupyter-widgets/controls",
            "_view_name": "HTMLView",
            "_view_module": "@jupyter-widgets/controls",
            "_dom_classes": [],
            "layout": "IPY_MODEL_97f84bf6b930443e921c17c3100c9bc5",
            "value": " 580/580 [00:00&lt;00:00, 4287.52it/s]",
            "style": "IPY_MODEL_d95dd7f1574a44c5869f52c02cd9bcf1",
            "placeholder": "​",
            "_view_count": null,
            "_model_module_version": "1.5.0",
            "description": ""
          }
        },
        "a06a80551da143739cfeba1d885cfa88": {
          "model_module": "@jupyter-widgets/controls",
          "model_name": "FloatProgressModel",
          "model_module_version": "1.5.0",
          "state": {
            "_view_module_version": "1.5.0",
            "description_tooltip": null,
            "_model_name": "FloatProgressModel",
            "_model_module": "@jupyter-widgets/controls",
            "max": 580,
            "bar_style": "success",
            "_view_name": "ProgressView",
            "_view_module": "@jupyter-widgets/controls",
            "_dom_classes": [],
            "layout": "IPY_MODEL_94dfed7d43894357b1c48e0a8c2d249f",
            "orientation": "horizontal",
            "value": 580,
            "style": "IPY_MODEL_42c3bec4588b429da2b30b043dcf72de",
            "min": 0,
            "_view_count": null,
            "_model_module_version": "1.5.0",
            "description": ""
          }
        },
        "94dfed7d43894357b1c48e0a8c2d249f": {
          "model_module": "@jupyter-widgets/base",
          "model_name": "LayoutModel",
          "model_module_version": "1.2.0",
          "state": {
            "_view_module_version": "1.2.0",
            "_model_name": "LayoutModel",
            "grid_row": null,
            "_model_module": "@jupyter-widgets/base",
            "overflow": null,
            "max_height": null,
            "display": null,
            "grid_auto_flow": null,
            "grid_template_rows": null,
            "align_self": null,
            "grid_auto_columns": null,
            "width": null,
            "grid_area": null,
            "align_items": null,
            "_view_name": "LayoutView",
            "left": null,
            "height": null,
            "_view_module": "@jupyter-widgets/base",
            "object_position": null,
            "justify_content": null,
            "bottom": null,
            "max_width": null,
            "border": null,
            "margin": null,
            "order": null,
            "grid_column": null,
            "grid_auto_rows": null,
            "padding": null,
            "grid_template_columns": null,
            "justify_items": null,
            "object_fit": null,
            "visibility": null,
            "_view_count": null,
            "flex_flow": null,
            "min_height": null,
            "top": null,
            "min_width": null,
            "flex": null,
            "_model_module_version": "1.2.0",
            "grid_template_areas": null,
            "overflow_x": null,
            "right": null,
            "overflow_y": null,
            "grid_gap": null,
            "align_content": null
          }
        },
        "0657b66d54f44650bd25a53c77b17cff": {
          "model_module": "@jupyter-widgets/controls",
          "model_name": "DescriptionStyleModel",
          "model_module_version": "1.5.0",
          "state": {
            "_view_name": "StyleView",
            "_model_name": "DescriptionStyleModel",
            "description_width": "",
            "_view_module": "@jupyter-widgets/base",
            "_model_module_version": "1.5.0",
            "_view_count": null,
            "_view_module_version": "1.2.0",
            "_model_module": "@jupyter-widgets/controls"
          }
        },
        "bbc7a4c854e34299866935014a726839": {
          "model_module": "@jupyter-widgets/controls",
          "model_name": "HBoxModel",
          "model_module_version": "1.5.0",
          "state": {
            "_view_module_version": "1.5.0",
            "_model_name": "HBoxModel",
            "_model_module": "@jupyter-widgets/controls",
            "_view_name": "HBoxView",
            "_view_module": "@jupyter-widgets/controls",
            "_dom_classes": [],
            "layout": "IPY_MODEL_90b4915be94547a5b82a90772460ab63",
            "_view_count": null,
            "_model_module_version": "1.5.0",
            "box_style": "",
            "children": [
              "IPY_MODEL_27c8f55b7515474196ebc2680546c23d",
              "IPY_MODEL_a06a80551da143739cfeba1d885cfa88",
              "IPY_MODEL_023b231bb5b943babfd441cbf63a0ebf"
            ]
          }
        }
      }
    },
    "nteract": {
      "version": "0.28.0"
    }
  },
  "nbformat": 4,
  "nbformat_minor": 0
}